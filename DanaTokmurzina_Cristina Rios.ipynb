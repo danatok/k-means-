{
 "cells": [
  {
   "cell_type": "code",
   "execution_count": 74,
   "metadata": {},
   "outputs": [],
   "source": [
    "#Import Libraries\n",
    "import numpy as np\n",
    "from scipy import linalg\n",
    "import matplotlib.pyplot as plot\n",
    "import math\n",
    "import random\n",
    "import networkx as nx"
   ]
  },
  {
   "cell_type": "code",
   "execution_count": 75,
   "metadata": {},
   "outputs": [
    {
     "data": {
      "image/png": "[encoded data removed]",
      "text/plain": [
       "<Figure size 432x288 with 1 Axes>"
      ]
     },
     "metadata": {},
     "output_type": "display_data"
    }
   ],
   "source": [
    "#1\n",
    "G =nx.Graph()\n",
    "AS = [[0, 1, 1, 0, 0],[1, 0, 0, 0, 0],[1,0,0,0,0],[0,0,0,0,1],[0,0,0,1,0]]\n",
    "G = nx.from_numpy_matrix(np.array(AS))\n",
    "nx.draw(G, with_labels = True)"
   ]
  },
  {
   "cell_type": "code",
   "execution_count": null,
   "metadata": {},
   "outputs": [],
   "source": []
  },
  {
   "cell_type": "code",
   "execution_count": 76,
   "metadata": {},
   "outputs": [
    {
     "name": "stdout",
     "output_type": "stream",
     "text": [
      "[[0, 1, 1, 0, 0], [1, 0, 0, 0, 0], [1, 0, 0, 0, 0], [0, 0, 0, 0, 1], [0, 0, 0, 1, 0]]\n"
     ]
    }
   ],
   "source": [
    "#Adjacency Matrix W, it defines the undirected graph \n",
    "W = [[0,1,1,0,0],\n",
    "     [1,0,0,0,0],\n",
    "     [1,0,0,0,0],\n",
    "     [0,0,0,0,1],\n",
    "     [0,0,0,1,0]]\n",
    "print(W)"
   ]
  },
  {
   "cell_type": "code",
   "execution_count": 77,
   "metadata": {},
   "outputs": [
    {
     "name": "stdout",
     "output_type": "stream",
     "text": [
      "[[2. 0. 0. 0. 0.]\n",
      " [0. 1. 0. 0. 0.]\n",
      " [0. 0. 1. 0. 0.]\n",
      " [0. 0. 0. 1. 0.]\n",
      " [0. 0. 0. 0. 1.]]\n"
     ]
    }
   ],
   "source": [
    "#3) Degree Matrix D, it defines the total weight of edges incident to each vertex in W\n",
    "def mD(W):\n",
    "    (m,n)=np.shape(W)\n",
    "    z=np.zeros((m,m))\n",
    "    for i in range(m):\n",
    "        for j in range(m):\n",
    "            if W[i][j] != 0:\n",
    "                z[i][i]+=W[i][j]\n",
    "    return z\n",
    "D = mD(W)\n",
    "print(D)"
   ]
  },
  {
   "cell_type": "code",
   "execution_count": 78,
   "metadata": {},
   "outputs": [
    {
     "name": "stdout",
     "output_type": "stream",
     "text": [
      "[[ 2. -1. -1.  0.  0.]\n",
      " [-1.  1.  0.  0.  0.]\n",
      " [-1.  0.  1.  0.  0.]\n",
      " [ 0.  0.  0.  1. -1.]\n",
      " [ 0.  0.  0. -1.  1.]]\n"
     ]
    }
   ],
   "source": [
    "#3) Laplacian Matrix L\n",
    "L=D-W\n",
    "print(L)"
   ]
  },
  {
   "cell_type": "markdown",
   "metadata": {},
   "source": [
    " 4. \n",
    "The graph Laplacian is the matrix $L = D – A$ where $ D $ is the diagonal matrix whose entries are the degrees of each node and A is the adjacency matrix. The smallest eigenvalue of $ L, λ_{1}, $is always 0. \n",
    "\n",
    "Actually the row sums in matrix L are all equal to zero. This is true of the Laplacian matrix of any graph, and it follows from the fact that in each row we have the degree of the corresponding vertex on the diagonal, along with a (−1) for each of its incident edges. If we let x be a constant vector, then this form is zero. \n",
    "\n",
    "To see why the smallest eigenvalue is always 0, note that v = (1, 1, 1, …, 1) is an eigenvector for 0. Multiplying the ith row of D by v picks out the degree of node i. Multiplying the ith row of A by v sums that row, which is also the degree of node i.\n",
    "\n",
    "\n",
    "So \n",
    "$A  * \\begin{pmatrix}\n",
    "  1  \\\\\n",
    "  1 \\\\\n",
    "  \\vdots     \\\\\n",
    "  1 & \n",
    " \\end{pmatrix} = \\begin{pmatrix}\n",
    "  d  \\\\\n",
    "  d \\\\\n",
    "  \\vdots     \\\\\n",
    "  d & \n",
    " \\end{pmatrix}$\n",
    "and we observe that\n",
    "\n",
    "$(D-A ) * \\begin{pmatrix}\n",
    "  1  \\\\\n",
    "  1 \\\\\n",
    "  \\vdots     \\\\\n",
    "  1 & \n",
    " \\end{pmatrix} = \\begin{pmatrix}\n",
    "  d-d  \\\\\n",
    "  d-d \\\\\n",
    "  \\vdots     \\\\\n",
    "  d-d & \n",
    " \\end{pmatrix}= \\begin{pmatrix}\n",
    "  0  \\\\\n",
    "  0 \\\\\n",
    "  \\vdots     \\\\\n",
    "  0 & \n",
    " \\end{pmatrix}= 0\\begin{pmatrix}\n",
    "  0  \\\\\n",
    "  0 \\\\\n",
    "  \\vdots     \\\\\n",
    "   & \n",
    " \\end{pmatrix}$\n",
    " "
   ]
  },
  {
   "cell_type": "code",
   "execution_count": 79,
   "metadata": {},
   "outputs": [
    {
     "name": "stdout",
     "output_type": "stream",
     "text": [
      "[ 3. -0.  1.  2.  0.]\n"
     ]
    }
   ],
   "source": [
    "#5) Eigenvalues and Eigenvectors of L\n",
    "eigval,eigvec=np.linalg.eig(L)\n",
    "np.set_printoptions(suppress=True)\n",
    "print(eigval)"
   ]
  },
  {
   "cell_type": "code",
   "execution_count": 80,
   "metadata": {},
   "outputs": [
    {
     "name": "stdout",
     "output_type": "stream",
     "text": [
      "[-0.  0.  1.  2.  3.]\n"
     ]
    },
    {
     "data": {
      "text/plain": [
       "[<matplotlib.lines.Line2D at 0x2176cfa9e48>]"
      ]
     },
     "execution_count": 80,
     "metadata": {},
     "output_type": "execute_result"
    },
    {
     "data": {
      "image/png": "[encoded data removed]",
      "text/plain": [
       "<Figure size 432x288 with 1 Axes>"
      ]
     },
     "metadata": {},
     "output_type": "display_data"
    }
   ],
   "source": [
    "#6) Sort Eigenvalues and Eigenvectors in increasing order and plot Eigenvalues\n",
    "eigval_sort=np.sort(eigval)\n",
    "r=sorted(zip(eigval, eigvec))\n",
    "print(eigval_sort)\n",
    "plot.plot(eigval_sort,'yo-') \n",
    "\n",
    "# From the graph we see that y values correspond to the eigenvalues. We have 2 zero eigenvalues."
   ]
  },
  {
   "cell_type": "markdown",
   "metadata": {},
   "source": [
    "7\n",
    "Show theoretically that the characteristic vectors of each connected component form a basis\n",
    "of the eigenspace associated to the eigenvalue .\n",
    "We got $2$ eigenvalues which are equal to zero. And correspodning eigenvectors are"
   ]
  },
  {
   "cell_type": "code",
   "execution_count": 81,
   "metadata": {},
   "outputs": [
    {
     "name": "stdout",
     "output_type": "stream",
     "text": [
      "[-0.41 -0.58 -0.71  0.    0.  ] [ 0.    0.    0.   -0.71  0.71]\n"
     ]
    }
   ],
   "source": [
    "print(r[0][1], r[1][1])\n",
    "\n"
   ]
  },
  {
   "cell_type": "markdown",
   "metadata": {},
   "source": [
    "We need to show that eigenspace of eigenvalues zero is spanned by the indicator vectors $1_{A_{1}}$ of those components.\n",
    "\n",
    "Indicator vectors are $1_{A} = (f_{1},\\dots, f_{n} )' $ in $R^{n}$ as the vector in with entries $f_{i} = 1$ if vector belogs to subset of vertices and zero otherwise.\n",
    "From the slides we see that matrix L satiesfies following property: for every vector f in $R^{n}$ we have $f'Lf=\\frac{1}{2} \\sum_{i,j=1}^n w_{i,j} = (f_{i}-f_{j})^2$\n",
    "Assume that f is eigenvector with eigenvalue 0.  As the weights are nont negative, the sum is 0 if $f_{i} $ equal to $f_{j}$ or two vetices are connected weigh$>0$. So $f$ needs to be constant for all vertices which can be connected by a path in th graph. And as all vertices of a connected component in an undirected graph can be connected by a path, f needs to be constant on the whole connected component. In a graph consisting of only one\n",
    "connected component we thus only have the constant one vector 1 as eigenvector with eigenvalue 0,\n",
    "which is the indicator vector of the connected component\n",
    "\n",
    "If we consider the\n",
    "\n",
    "$L = \n",
    " \\begin{pmatrix}\n",
    "  L_{1} & \\cdots & 0 \\\\\n",
    "   \\ddots  & \\ddots & \\ddots \\\\\n",
    " 0 & \\cdots & L_{n} \n",
    " \\end{pmatrix}$\n",
    " and assume diag elements are ordered. $L_{1}$ is a graph Laplacian for subgraph $A_{1}$, Eigenvalue(L) = union of eigenval($L_{i}$) where each has eigenvalue = 0 and corresponding eigenvect = $1_{A_{i}}$\n",
    "\n",
    "Additional\n",
    "\n",
    "Since Matrix L symmetric and therefore diagonalizable, the multiplicity of zero as a\n",
    "root of its characteristic polynomial is the same as the dimension of the nullspace of L (null space is matrix X, where $AX= 0$).\n",
    "\n",
    "which is the geometric multiplicity of zero as an eigenvalue of L(G). "
   ]
  },
  {
   "cell_type": "markdown",
   "metadata": {},
   "source": [
    "8 We see the eigenvectors corresponding to zero eigenvalues are of lengh one.\n"
   ]
  },
  {
   "cell_type": "code",
   "execution_count": 82,
   "metadata": {},
   "outputs": [
    {
     "name": "stdout",
     "output_type": "stream",
     "text": [
      "0.9999999999999999 0.9999999999999999\n"
     ]
    }
   ],
   "source": [
    "print(np.linalg.norm(r[1][1]),np.linalg.norm(r[1][1]))\n"
   ]
  },
  {
   "cell_type": "code",
   "execution_count": 67,
   "metadata": {},
   "outputs": [
    {
     "name": "stdout",
     "output_type": "stream",
     "text": [
      "[ 0.47 -0.17 -0.3   0.    0.  ] [ 0.    0.    0.   -1.41  1.41] [-0.95 -0.17  1.12  0.    0.  ] [0. 0. 0. 0. 0.] [ 2.21 -1.39 -0.82  0.    0.  ] [[-0.82  0.58  0.71  0.    0.  ]\n",
      " [ 0.41 -0.58 -0.    0.    0.  ]\n",
      " [ 0.41 -0.   -0.71  0.    0.  ]\n",
      " [-0.   -0.   -0.    0.   -0.  ]\n",
      " [-0.   -0.   -0.   -0.    0.  ]]\n"
     ]
    }
   ],
   "source": [
    "\n",
    "L_t = np.array([[ 2, -1, -1,  0,  0],[-1,  1,  0,  0,  0],[-1,  0,  1,  0,  0],[ 0,  0,  0,  1, -1],[ 0,  0,  0, -1,  1]])\n",
    "\n",
    "test = np.dot(L,r[0][1])\n",
    "test1=np.dot(L, r[1][1])\n",
    "test2 = np.dot(L,r[2][1])\n",
    "test3=np.dot(L, r[3][1])\n",
    "test4 = np.dot(L,r[4][1])\n",
    "\n",
    "print(test,test1,test2,test3,test4)\n"
   ]
  },
  {
   "cell_type": "code",
   "execution_count": 85,
   "metadata": {},
   "outputs": [
    {
     "name": "stdout",
     "output_type": "stream",
     "text": [
      "[[0.   1.18 1.22 0.12 0.15]\n",
      " [1.25 0.19 0.18 0.15 0.08]\n",
      " [1.14 0.16 0.04 0.08 0.1 ]\n",
      " [0.04 0.01 0.28 0.1  1.18]\n",
      " [0.08 0.26 0.25 1.24 0.3 ]]\n"
     ]
    }
   ],
   "source": [
    "#9) Add a noise to Matrix W\n",
    "def noise(W):\n",
    "    (m,n)=np.shape(W)\n",
    "    z=np.zeros((m,n))\n",
    "    for i in range(m):\n",
    "        for j in range(n):\n",
    "                z[i][j]+=W[i][j]+np.random.uniform(low=0.0, high=0.3, size=None) #add random noise to each element in W\n",
    "    return z\n",
    "n = noise(W) #Noisy matrix W\n",
    "np.set_printoptions(precision=2) #Display maximum 2 decimals\n",
    "print(n)"
   ]
  },
  {
   "cell_type": "code",
   "execution_count": 86,
   "metadata": {},
   "outputs": [
    {
     "name": "stdout",
     "output_type": "stream",
     "text": [
      "[[0.   1.22 1.18 0.08 0.12]\n",
      " [1.22 0.19 0.17 0.08 0.17]\n",
      " [1.18 0.17 0.04 0.18 0.17]\n",
      " [0.08 0.08 0.18 0.1  1.21]\n",
      " [0.12 0.17 0.17 1.21 0.3 ]]\n"
     ]
    }
   ],
   "source": [
    "#9) Define noisy symmetric adjacency matrix Wn\n",
    "Wn = (n+np.transpose(n))/2\n",
    "print(Wn)"
   ]
  },
  {
   "cell_type": "code",
   "execution_count": 87,
   "metadata": {},
   "outputs": [
    {
     "name": "stdout",
     "output_type": "stream",
     "text": [
      "[[0.   1.22 1.18 0.08 0.12]\n",
      " [1.22 0.   0.17 0.08 0.17]\n",
      " [1.18 0.17 0.   0.18 0.17]\n",
      " [0.08 0.08 0.18 0.   1.21]\n",
      " [0.12 0.17 0.17 1.21 0.  ]]\n"
     ]
    }
   ],
   "source": [
    "#9) Make the diagonal of Wn equal to 0\n",
    "np.fill_diagonal(Wn,0)\n",
    "print(Wn)"
   ]
  },
  {
   "cell_type": "code",
   "execution_count": 88,
   "metadata": {},
   "outputs": [
    {
     "data": {
      "image/png": "[encoded data removed]",
      "text/plain": [
       "<Figure size 432x288 with 1 Axes>"
      ]
     },
     "metadata": {},
     "output_type": "display_data"
    }
   ],
   "source": [
    "#10) Graph of Wn\n",
    "GG =nx.Graph()\n",
    "GG = nx.from_numpy_matrix(np.array(Wn))\n",
    "nx.draw(GG, with_labels = True)"
   ]
  },
  {
   "cell_type": "code",
   "execution_count": 91,
   "metadata": {},
   "outputs": [
    {
     "name": "stdout",
     "output_type": "stream",
     "text": [
      "[3.82 0.   0.65 2.82 1.84]\n"
     ]
    }
   ],
   "source": [
    "#11) Eigenvalues of Laplacian Matrix Ln associated to Wn\n",
    "Dn = mD(Wn) #compute degree matrix Dn\n",
    "Ln=Dn-Wn #compute laplacian matrix Ln\n",
    "eigvaln,eigvecn=np.linalg.eig(Ln) #Eigenvalues and Eigenvectors of Ln\n",
    "print(eigvaln)\n",
    "eigvaln_sort=np.sort(eigvaln)\n",
    "rn=sorted(zip(eigvaln, eigvecn))"
   ]
  },
  {
   "cell_type": "code",
   "execution_count": null,
   "metadata": {},
   "outputs": [],
   "source": [
    "#12\n",
    "test = np.dot(L,rn[0][1])\n",
    "test1=np.dot(L, rn[1][1])\n",
    "test2 = np.dot(L,rn[2][1])\n",
    "test3=np.dot(L, rn[3][1])\n",
    "test4 = np.dot(L,rn[4][1])\n",
    "print(test,test1,test2,test3,test4)"
   ]
  },
  {
   "cell_type": "code",
   "execution_count": 92,
   "metadata": {},
   "outputs": [
    {
     "name": "stdout",
     "output_type": "stream",
     "text": [
      "[0.   0.65 1.84 2.82 3.82]\n"
     ]
    },
    {
     "data": {
      "text/plain": [
       "[<matplotlib.lines.Line2D at 0x2176e690f28>]"
      ]
     },
     "execution_count": 92,
     "metadata": {},
     "output_type": "execute_result"
    },
    {
     "data": {
      "image/png": "[encoded data removed]",
      "text/plain": [
       "<Figure size 432x288 with 1 Axes>"
      ]
     },
     "metadata": {},
     "output_type": "display_data"
    }
   ],
   "source": [
    "#13) Sort Eigenvalues in increasing order \n",
    "\n",
    "print(eigvaln_sort) \n",
    "\n",
    "\n",
    "#Plot the first and second Eigenvectors (associated with lowest and second lowest Eigenvalues)\n",
    "plot.plot(rn[0][1],'yo-')\n",
    "plot.plot(rn[1][1],'bo-')\n",
    "#Explanation: the minimum value for the cut is given by the 2nd smallest eigenvalue of Ln\n",
    "#The optimal bi-partition is given by the corresponding eigenvector"
   ]
  },
  {
   "cell_type": "code",
   "execution_count": 94,
   "metadata": {},
   "outputs": [
    {
     "data": {
      "text/plain": [
       "[<matplotlib.lines.Line2D at 0x2176e760c18>]"
      ]
     },
     "execution_count": 94,
     "metadata": {},
     "output_type": "execute_result"
    },
    {
     "data": {
      "image/png": "[encoded data removed]",
      "text/plain": [
       "<Figure size 432x288 with 1 Axes>"
      ]
     },
     "metadata": {},
     "output_type": "display_data"
    }
   ],
   "source": [
    "#14\n",
    "plot.plot(rn[0][1],rn[1][1],'bo-')"
   ]
  },
  {
   "cell_type": "code",
   "execution_count": 93,
   "metadata": {},
   "outputs": [
    {
     "name": "stdout",
     "output_type": "stream",
     "text": [
      "[-0.42 -0.45 -0.31  0.02  0.73]\n",
      "-0.08608544348363019\n"
     ]
    },
    {
     "data": {
      "image/png": "[encoded data removed]",
      "text/plain": [
       "<Figure size 432x288 with 1 Axes>"
      ]
     },
     "metadata": {},
     "output_type": "display_data"
    }
   ],
   "source": [
    "#15) Thresholding mechanism based on the mean value of the 2nd Eiganvector, \n",
    "#to associate a level with each sample (-1 1st cluster, +1 2nd cluster)\n",
    "\n",
    "v2=rn[1][1]\n",
    "mean=np.mean(v2)\n",
    "cluster1 = []\n",
    "cluster2 = []\n",
    "tsh=mean\n",
    "for i in range(len(v2)):\n",
    "    if v2[i]<tsh:\n",
    "        cluster1.append(i)\n",
    "    else:\n",
    "        cluster2.append(i)\n",
    "print(v2)\n",
    "print(mean)\n",
    "\n",
    "#Plot the clusters\n",
    "for i in cluster1:\n",
    "    plot.plot(i,v2[i],'bo')\n",
    "for i in cluster2:\n",
    "    plot.plot(i,v2[i],'yo')"
   ]
  },
  {
   "cell_type": "code",
   "execution_count": null,
   "metadata": {},
   "outputs": [],
   "source": [
    "#16 if it is 10, then the clustering changes, as mean on which we are threshlding is -0.086 is much less that 10."
   ]
  }
 ],
 "metadata": {
  "kernelspec": {
   "display_name": "Python 3",
   "language": "python",
   "name": "python3"
  },
  "language_info": {
   "codemirror_mode": {
    "name": "ipython",
    "version": 3
   },
   "file_extension": ".py",
   "mimetype": "text/x-python",
   "name": "python",
   "nbconvert_exporter": "python",
   "pygments_lexer": "ipython3",
   "version": "3.6.5"
  }
 },
 "nbformat": 4,
 "nbformat_minor": 2
}
